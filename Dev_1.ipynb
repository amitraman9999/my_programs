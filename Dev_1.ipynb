{
 "cells": [
  {
   "cell_type": "code",
   "execution_count": 2,
   "id": "e4d2bc2e-c7b2-4ca5-b0a1-20078403177e",
   "metadata": {},
   "outputs": [
    {
     "name": "stdin",
     "output_type": "stream",
     "text": [
      " 17\n",
      " 20\n"
     ]
    },
    {
     "name": "stdout",
     "output_type": "stream",
     "text": [
      "1\n"
     ]
    }
   ],
   "source": [
    "#common factor of 2 numbers \n",
    "a = int(input())\n",
    "b = int(input())\n",
    "\n",
    "i = 1\n",
    "while (i <=a and i <=b):\n",
    "    if (a%i == 0 and b%i==0):\n",
    "        print(i)\n",
    "    i+=1\n"
   ]
  },
  {
   "cell_type": "code",
   "execution_count": 9,
   "id": "a6405182-3a52-49b5-ace8-64bbe92904d1",
   "metadata": {},
   "outputs": [
    {
     "name": "stdin",
     "output_type": "stream",
     "text": [
      " 18\n",
      " 12\n"
     ]
    },
    {
     "name": "stdout",
     "output_type": "stream",
     "text": [
      "\n",
      "\n",
      "\n",
      "\n",
      "12\n"
     ]
    }
   ],
   "source": [
    "#common factor of 2 numbers \n",
    "a = int(input())\n",
    "b = int(input())\n",
    "x=0\n",
    "for i in range(1, min(a,b) + 1):\n",
    "    if (a%i == 0 and b%i==0):\n",
    "        x=1\n",
    "print(x)"
   ]
  },
  {
   "cell_type": "code",
   "execution_count": null,
   "id": "2928cb5c-5b65-4d8a-afdd-e20b8303e612",
   "metadata": {},
   "outputs": [],
   "source": [
    "#HCM\n",
    "a = int(input())\n",
    "b = int(input())\n",
    "x=0\n",
    "for i in range(1, min(a,b) + 1):\n",
    "    if (a%i == 0 and b%i==0):\n",
    "        x=i\n",
    "print(x)"
   ]
  },
  {
   "cell_type": "code",
   "execution_count": 11,
   "id": "e6b0bf1e-a112-46aa-86d1-1f90538af175",
   "metadata": {},
   "outputs": [
    {
     "name": "stdin",
     "output_type": "stream",
     "text": [
      " 10\n",
      " 15\n"
     ]
    },
    {
     "name": "stdout",
     "output_type": "stream",
     "text": [
      "30\n"
     ]
    }
   ],
   "source": [
    "#LCM\n",
    "a = int(input())\n",
    "b = int(input())\n",
    "x=0\n",
    "for i in range(1, min(a,b) + 1):\n",
    "    if (a%i == 0 and b%i==0):\n",
    "        x=i\n",
    "print(a*b//x) \n",
    "    "
   ]
  },
  {
   "cell_type": "code",
   "execution_count": 14,
   "id": "bde6fabb-ee4a-4392-afc7-746bee78b58c",
   "metadata": {},
   "outputs": [
    {
     "ename": "SyntaxError",
     "evalue": "invalid syntax (1609790912.py, line 4)",
     "output_type": "error",
     "traceback": [
      "\u001b[1;36m  Cell \u001b[1;32mIn[14], line 4\u001b[1;36m\u001b[0m\n\u001b[1;33m    i=*\u001b[0m\n\u001b[1;37m       ^\u001b[0m\n\u001b[1;31mSyntaxError\u001b[0m\u001b[1;31m:\u001b[0m invalid syntax\n"
     ]
    }
   ],
   "source": [
    "#N stars\n",
    "N= int(input())\n",
    "for i in range(1, N+1):\n",
    "    if(i==\n",
    "    i=*\n",
    "    print(\"*\")\n",
    "    "
   ]
  },
  {
   "cell_type": "code",
   "execution_count": 21,
   "id": "61567ed3-96b7-4ac7-b9db-58fda1b41840",
   "metadata": {},
   "outputs": [
    {
     "name": "stdout",
     "output_type": "stream",
     "text": [
      "***\n",
      "***\n",
      "***\n"
     ]
    }
   ],
   "source": [
    "for i in range(3):\n",
    "    print(\"*\", end =\"\")\n",
    "print()\n",
    "for i in range(3):\n",
    "    print(\"*\", end =\"\")\n",
    "print()\n",
    "for i in range(3):\n",
    "    print(\"*\", end =\"\")\n",
    "print()"
   ]
  },
  {
   "cell_type": "code",
   "execution_count": 24,
   "id": "168d9ff8-358a-477c-90ab-845c77094e7d",
   "metadata": {},
   "outputs": [
    {
     "name": "stdout",
     "output_type": "stream",
     "text": [
      "*****\n",
      "*****\n",
      "*****\n"
     ]
    }
   ],
   "source": [
    "#pattern printing \n",
    "#N*M\n",
    "#N = 3 M=5\n",
    "\n",
    "for i in range(3):\n",
    "    for j in range(1):\n",
    "        print(\"*****\")"
   ]
  },
  {
   "cell_type": "code",
   "execution_count": 33,
   "id": "460c023d-8a17-4cae-a350-48d03dc1ad03",
   "metadata": {},
   "outputs": [
    {
     "name": "stdout",
     "output_type": "stream",
     "text": [
      "*\n",
      "**\n",
      "***\n",
      "****\n",
      "*****\n"
     ]
    }
   ],
   "source": [
    "N=5\n",
    "M=1\n",
    "for i in range(N):\n",
    "    for j in range(M):\n",
    "        print(\"*\", end=\"\")\n",
    "    M=M+1\n",
    "    print()\n"
   ]
  },
  {
   "cell_type": "code",
   "execution_count": 38,
   "id": "37727373-13c4-4d6f-81ba-dd38ef10466d",
   "metadata": {},
   "outputs": [
    {
     "name": "stdout",
     "output_type": "stream",
     "text": [
      "\n",
      "*\n",
      "**\n",
      "***\n",
      "****\n"
     ]
    }
   ],
   "source": [
    "N=5\n",
    "for i in range(N):\n",
    "    for j in range(i):\n",
    "        print(\"*\", end=\"\")\n",
    "    print()"
   ]
  },
  {
   "cell_type": "code",
   "execution_count": null,
   "id": "08232af7-dfc6-4efc-ae11-b83cd9ecbbbf",
   "metadata": {},
   "outputs": [],
   "source": [
    "N = int(input())\n",
    "while N>0:\n",
    "    if N>10:\n",
    "        print(N%10, end = \"\")\n",
    "        N = N//10\n",
    "    else:\n",
    "        print(N%10, end = \"\")\n",
    "        N = N//10"
   ]
  },
  {
   "cell_type": "code",
   "execution_count": 40,
   "id": "3c10e3b3-e189-446d-833f-d8de10c893a2",
   "metadata": {},
   "outputs": [
    {
     "name": "stdin",
     "output_type": "stream",
     "text": [
      " 234\n"
     ]
    },
    {
     "name": "stdout",
     "output_type": "stream",
     "text": [
      "432\n"
     ]
    }
   ],
   "source": [
    "N = int(input())\n",
    "x= 0\n",
    "while N>0:\n",
    "    y = N%10\n",
    "    x=10*x + y\n",
    "    N =N//10\n",
    "print(x)"
   ]
  },
  {
   "cell_type": "code",
   "execution_count": 41,
   "id": "1ebfb27d-4774-47ec-8bac-0fe80e180216",
   "metadata": {},
   "outputs": [
    {
     "name": "stdin",
     "output_type": "stream",
     "text": [
      " 234\n"
     ]
    },
    {
     "name": "stdout",
     "output_type": "stream",
     "text": [
      "432"
     ]
    }
   ],
   "source": [
    "N = int(input())\n",
    "while N>0:\n",
    "    print(N%10, end = \"\")\n",
    "    N = N//10"
   ]
  },
  {
   "cell_type": "code",
   "execution_count": 9,
   "id": "eab7bf85-df60-4c13-9b38-76a59a5f6a00",
   "metadata": {},
   "outputs": [
    {
     "name": "stdin",
     "output_type": "stream",
     "text": [
      " 121\n"
     ]
    },
    {
     "name": "stdout",
     "output_type": "stream",
     "text": [
      "Yes\n"
     ]
    }
   ],
   "source": [
    "#Palindromic Integer\n",
    "A = int(input())\n",
    "p = A\n",
    "x= 0\n",
    "while A >0:\n",
    "    y = A%10\n",
    "    x= 10*x + y\n",
    "    A = A//10\n",
    "    #this will reverse the int\n",
    "\n",
    "if (x == p):\n",
    "    print(\"Yes\")\n",
    "else:\n",
    "    print(\"No\")\n"
   ]
  },
  {
   "cell_type": "code",
   "execution_count": null,
   "id": "2ef9287a-894c-4940-97e6-8b53250bae30",
   "metadata": {},
   "outputs": [],
   "source": [
    "if (x == A):\n",
    "    print(\"Yes\")\n",
    "else:\n",
    "    print(\"No\")\n",
    "    "
   ]
  },
  {
   "cell_type": "code",
   "execution_count": 3,
   "id": "d1540467-a559-4521-96aa-63f18fae5462",
   "metadata": {},
   "outputs": [
    {
     "name": "stdout",
     "output_type": "stream",
     "text": [
      "*****\n",
      "****\n",
      "***\n",
      "**\n",
      "*\n"
     ]
    }
   ],
   "source": [
    "#inverted stair pattern\n",
    "N=5\n",
    "M=N\n",
    "for i in range(1, N+1):\n",
    "    for j in range(M):\n",
    "        print(\"*\", end=\"\")\n",
    "    M=M-1\n",
    "    print()"
   ]
  },
  {
   "cell_type": "code",
   "execution_count": 4,
   "id": "74d7d3c6-f1d3-489a-81e3-44f769fa23e5",
   "metadata": {},
   "outputs": [
    {
     "name": "stdout",
     "output_type": "stream",
     "text": [
      "*****\n",
      "****\n",
      "***\n",
      "**\n",
      "*\n"
     ]
    }
   ],
   "source": [
    "##inverted stair pattern\n",
    "N = 5\n",
    "for i in range(N, 0, -1):\n",
    "    print(\"*\" * i)"
   ]
  },
  {
   "cell_type": "code",
   "execution_count": 5,
   "id": "05326e29-f758-4ddc-80c5-737d108de848",
   "metadata": {},
   "outputs": [
    {
     "name": "stdout",
     "output_type": "stream",
     "text": [
      "***\n"
     ]
    }
   ],
   "source": [
    "print(\"*\" * 3)"
   ]
  },
  {
   "cell_type": "code",
   "execution_count": 6,
   "id": "aa0056b0-41bd-41a0-976c-ac4d25b3a5c2",
   "metadata": {},
   "outputs": [
    {
     "name": "stdout",
     "output_type": "stream",
     "text": [
      "\n",
      "*\n",
      "**\n",
      "***\n",
      "****\n"
     ]
    }
   ],
   "source": [
    "N = 5\n",
    "for i in range(N):\n",
    "    print(\"*\" * i)"
   ]
  },
  {
   "cell_type": "raw",
   "id": "de5cd341-00bd-4612-a46b-def695618566",
   "metadata": {},
   "source": [
    "# mirror stair pattern \n",
    "N= int(input())\n",
    "for i in range(1, N+1):\n",
    "    for j in range(N-i):\n",
    "        print(\" \", end=\"\")\n",
    "    print(\"*\" *i)\n",
    "    print()"
   ]
  },
  {
   "cell_type": "code",
   "execution_count": 19,
   "id": "424b0f2c-4dab-432b-8fc1-8f5788d62d44",
   "metadata": {},
   "outputs": [
    {
     "name": "stdout",
     "output_type": "stream",
     "text": [
      "....*..\n",
      "...**\n",
      "..***\n",
      ".****\n",
      "*****\n"
     ]
    }
   ],
   "source": [
    "# pyramind pattern\n",
    "N=5\n",
    "for i in range (1, N+1):\n",
    "    for j in range(N-i):\n",
    "        print(\".\", end=\"\")\n",
    "    for k in range(i):\n",
    "        print(\"*\", end=\"\")\n",
    "        i=i+2\n",
    "    for j in range(N-i):\n",
    "        print(\".\", end=\"\")\n",
    "    print()\n",
    "        "
   ]
  },
  {
   "cell_type": "code",
   "execution_count": 20,
   "id": "f54ab8de-960b-43fe-865e-5c3ce4cabe31",
   "metadata": {},
   "outputs": [
    {
     "name": "stdout",
     "output_type": "stream",
     "text": [
      "....*....\n",
      "...**...\n",
      "..***..\n",
      ".****.\n",
      "*****\n"
     ]
    }
   ],
   "source": [
    "N = 5\n",
    "for i in range(1, N+1):\n",
    "    for j in range(N-i):\n",
    "        print(\".\", end=\"\")\n",
    "    for k in range(i):\n",
    "        print(\"*\", end=\"\")\n",
    "    for j in range(N-i):\n",
    "        print(\".\", end=\"\")\n",
    "    print()"
   ]
  },
  {
   "cell_type": "code",
   "execution_count": 28,
   "id": "4c1e8049-0ad3-4da9-8a72-375a8303047d",
   "metadata": {},
   "outputs": [
    {
     "name": "stdout",
     "output_type": "stream",
     "text": [
      "    *    \n",
      "   ***   \n",
      "  *****  \n",
      " ******* \n",
      "*********\n"
     ]
    }
   ],
   "source": [
    "# pyramind pattern\n",
    "N = 5\n",
    "for i in range(1, N+1):\n",
    "    for j in range(N-i):\n",
    "        print(\" \", end=\"\")\n",
    "    for k in range(2*i-1):\n",
    "        print(\"*\", end=\"\")\n",
    "    for j in range(N-i):\n",
    "        print(\" \", end=\"\")\n",
    "    print()"
   ]
  },
  {
   "cell_type": "code",
   "execution_count": 29,
   "id": "bc75850d-8767-4a69-a155-4aded14ddea3",
   "metadata": {},
   "outputs": [
    {
     "name": "stdout",
     "output_type": "stream",
     "text": [
      "    *\n",
      "   ***\n",
      "  *****\n",
      " *******\n",
      "*********\n"
     ]
    }
   ],
   "source": [
    "# pyramind pattern\n",
    "N = 5\n",
    "for i in range(1, N+1):\n",
    "    for j in range(N-i):\n",
    "        print(\" \", end=\"\")\n",
    "    for k in range(2*i-1):\n",
    "        print(\"*\", end=\"\")\n",
    "    print()"
   ]
  },
  {
   "cell_type": "code",
   "execution_count": 33,
   "id": "658a6af6-2963-4777-8b37-85d01534961d",
   "metadata": {},
   "outputs": [
    {
     "name": "stdout",
     "output_type": "stream",
     "text": [
      "*........*\n",
      "**......**\n",
      "***....***\n",
      "****..****\n",
      "**********\n"
     ]
    }
   ],
   "source": [
    "#Lower diamond\n",
    "N = 5\n",
    "for i in range(1, N+1):\n",
    "    for j in range(i):\n",
    "        print(\"*\", end=\"\")\n",
    "    for j in range(2*N-2*i):\n",
    "        print(\".\", end=\"\")\n",
    "    for j in range(i):\n",
    "        print(\"*\", end=\"\")\n",
    "    print()"
   ]
  },
  {
   "cell_type": "code",
   "execution_count": 36,
   "id": "169f4d66-1aaa-436c-b02e-c2e863bbc282",
   "metadata": {},
   "outputs": [
    {
     "name": "stdout",
     "output_type": "stream",
     "text": [
      "**********\n",
      "****..****\n",
      "***....***\n",
      "**......**\n",
      "*........*\n",
      "*........*\n",
      "**......**\n",
      "***....***\n",
      "****..****\n",
      "**********\n"
     ]
    }
   ],
   "source": [
    "#full diamond\n",
    "N= 5\n",
    "for i in range(1, N+1):\n",
    "    for j in range(N-i +1):\n",
    "        print(\"*\", end=\"\")\n",
    "    for j in range(2*i-2):\n",
    "        print(\".\", end=\"\")\n",
    "    for j in range(N-i +1):\n",
    "        print(\"*\", end=\"\")\n",
    "    print()\n",
    "for i in range(1, N+1):\n",
    "    for j in range(i):\n",
    "        print(\"*\", end=\"\")\n",
    "    for j in range(2*N-2*i):\n",
    "        print(\".\", end=\"\")\n",
    "    for j in range(i):\n",
    "        print(\"*\", end=\"\")\n",
    "    print()\n",
    "        "
   ]
  },
  {
   "cell_type": "code",
   "execution_count": 48,
   "id": "1d5fa130-caaf-49d6-8d3e-b4d63be88a80",
   "metadata": {},
   "outputs": [
    {
     "name": "stdout",
     "output_type": "stream",
     "text": [
      "******\n",
      "*...*\n",
      "*..*\n",
      "*.*\n",
      "**\n",
      "*\n"
     ]
    }
   ],
   "source": [
    "#Hollow Triangle\n",
    "N= 6\n",
    "for i in range(1, N+1):\n",
    "    print(\"*\", end=\"\")\n",
    "print()\n",
    "for i in range(1, N-1):\n",
    "    print(\"*\", end=\"\")\n",
    "    for j in range(N-i-2):\n",
    "        print(\".\", end=\"\")\n",
    "    for j in range(1):\n",
    "        print(\"*\", end=\"\")\n",
    "    print()\n",
    "print(\"*\")\n",
    "    "
   ]
  },
  {
   "cell_type": "code",
   "execution_count": 53,
   "id": "d0549df9-050d-4bcb-8d11-0dc03e879181",
   "metadata": {},
   "outputs": [
    {
     "name": "stdout",
     "output_type": "stream",
     "text": [
      "*********************\n",
      "*                  *\n",
      "\n",
      "*                 *\n",
      "\n",
      "*                *\n",
      "\n",
      "*               *\n",
      "\n",
      "*              *\n",
      "\n",
      "*             *\n",
      "\n",
      "*            *\n",
      "\n",
      "*           *\n",
      "\n",
      "*          *\n",
      "\n",
      "*         *\n",
      "\n",
      "*        *\n",
      "\n",
      "*       *\n",
      "\n",
      "*      *\n",
      "\n",
      "*     *\n",
      "\n",
      "*    *\n",
      "\n",
      "*   *\n",
      "\n",
      "*  *\n",
      "\n",
      "* *\n",
      "\n",
      "**\n",
      "\n",
      "*\n"
     ]
    }
   ],
   "source": [
    "#Hollow Triangle\n",
    "N= 21\n",
    "for i in range(1, N+1):\n",
    "    print(\"*\", end=\"\")\n",
    "print()\n",
    "for i in range(1, N-1):\n",
    "    print(\"*\", end=\"\")\n",
    "    for j in range(N-i-2):\n",
    "        print(\" \", end=\"\")\n",
    "    print(\"*\")\n",
    "    print()\n",
    "print(\"*\")"
   ]
  },
  {
   "cell_type": "code",
   "execution_count": 59,
   "id": "d9547b44-eb2d-48ea-8aab-9c77c9e4fe0a",
   "metadata": {},
   "outputs": [
    {
     "name": "stdin",
     "output_type": "stream",
     "text": [
      " 23\n"
     ]
    },
    {
     "name": "stdout",
     "output_type": "stream",
     "text": [
      "69\n"
     ]
    }
   ],
   "source": [
    "def square(number, P):\n",
    "    print(number*P)\n",
    "\n",
    "N=int(input())\n",
    "square(N, 3)"
   ]
  },
  {
   "cell_type": "code",
   "execution_count": 64,
   "id": "ee6cd1d2-8759-417f-9f75-c9291fa2669a",
   "metadata": {},
   "outputs": [
    {
     "name": "stdin",
     "output_type": "stream",
     "text": [
      " 5\n"
     ]
    },
    {
     "name": "stdout",
     "output_type": "stream",
     "text": [
      "*\n",
      "*\n",
      "*\n",
      "*\n",
      "*\n",
      "*  *\n",
      "\n",
      "* *\n",
      "\n",
      "**\n",
      "\n",
      "*\n"
     ]
    }
   ],
   "source": [
    "def hollow_triangle(N):\n",
    "    for i in range(1, N+1):\n",
    "        print(\"*\", end=\"\")\n",
    "        print()\n",
    "    for i in range(1, N-1):\n",
    "        print(\"*\", end=\"\")\n",
    "        for j in range(N-i-2):\n",
    "            print(\" \", end=\"\")\n",
    "        print(\"*\")\n",
    "        print()\n",
    "    print(\"*\")\n",
    "\n",
    "P=int(input())\n",
    "hollow_triangle(P)"
   ]
  },
  {
   "cell_type": "code",
   "execution_count": 66,
   "id": "c53ce7f6-94ef-4762-8d3e-168ff3fcdc84",
   "metadata": {},
   "outputs": [
    {
     "name": "stdout",
     "output_type": "stream",
     "text": [
      "68\n"
     ]
    }
   ],
   "source": [
    "def convert(t):\n",
    "    return t*9/5 + 32\n",
    "\n",
    "print(int(convert(20)))"
   ]
  },
  {
   "cell_type": "code",
   "execution_count": 68,
   "id": "b93d0056-494b-42bb-b132-69025775dae2",
   "metadata": {},
   "outputs": [],
   "source": [
    "def celsius_farhen(Celsius):\n",
    "    \n",
    "    # YOUR CODE GOES HERE\n",
    "    \n",
    "    ans=(Celsius*9)/5 +32\n",
    "    \n",
    "    return round(ans,2)"
   ]
  },
  {
   "cell_type": "code",
   "execution_count": 70,
   "id": "a4bf5f24-af57-4e86-acac-a0bc4949f94c",
   "metadata": {},
   "outputs": [],
   "source": [
    "def area(R):\n",
    "    ans = 3.14159*(R*R)\n",
    "    return round(ans, 2)"
   ]
  },
  {
   "cell_type": "code",
   "execution_count": 72,
   "id": "a3c612ab-4d08-4e0e-8ebc-06f48b272d84",
   "metadata": {},
   "outputs": [
    {
     "name": "stdout",
     "output_type": "stream",
     "text": [
      "100\n"
     ]
    }
   ],
   "source": [
    "a=10\n",
    "def calculator(number):\n",
    "    return number * 10\n",
    "\n",
    "print(calculator(a))"
   ]
  },
  {
   "cell_type": "code",
   "execution_count": null,
   "id": "74bafac6-b696-4902-a4d8-e8954c1f987f",
   "metadata": {},
   "outputs": [],
   "source": []
  }
 ],
 "metadata": {
  "kernelspec": {
   "display_name": "Python 3 (ipykernel)",
   "language": "python",
   "name": "python3"
  },
  "language_info": {
   "codemirror_mode": {
    "name": "ipython",
    "version": 3
   },
   "file_extension": ".py",
   "mimetype": "text/x-python",
   "name": "python",
   "nbconvert_exporter": "python",
   "pygments_lexer": "ipython3",
   "version": "3.11.4"
  }
 },
 "nbformat": 4,
 "nbformat_minor": 5
}
